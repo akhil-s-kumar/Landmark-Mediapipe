{
 "cells": [
  {
   "cell_type": "code",
   "execution_count": 1,
   "id": "4feaf29e",
   "metadata": {},
   "outputs": [],
   "source": [
    "import cv2\n",
    "import mediapipe as mp"
   ]
  },
  {
   "cell_type": "code",
   "execution_count": 2,
   "id": "a26fec72",
   "metadata": {},
   "outputs": [],
   "source": [
    "mp_face_mesh = mp.solutions.face_mesh\n",
    "face_mesh_images = mp_face_mesh.FaceMesh(static_image_mode=False, max_num_faces=2,\n",
    "                                         min_detection_confidence=0.5)"
   ]
  },
  {
   "cell_type": "code",
   "execution_count": 3,
   "id": "b00312ac",
   "metadata": {},
   "outputs": [],
   "source": [
    "cap = cv2.VideoCapture(0)\n",
    "\n",
    "while True:\n",
    "    # Image\n",
    "    ret, image = cap.read()\n",
    "    if ret is not True:\n",
    "        break\n",
    "    height, width, _ = image.shape\n",
    "    rgb_image = cv2.cvtColor(image, cv2.COLOR_BGR2RGB)\n",
    "    face_mesh_results = face_mesh_images.process(rgb_image)\n",
    "    # Facial landmarks\n",
    "    if face_mesh_results.multi_face_landmarks:\n",
    "        for facial_landmarks in face_mesh_results.multi_face_landmarks:\n",
    "            for i in range(0, 468):\n",
    "                pt1 = facial_landmarks.landmark[i]\n",
    "                x = int(pt1.x * width)\n",
    "                y = int(pt1.y * height)\n",
    "                cv2.circle(image, (x, y), 1, (255, 255, 255), -1)\n",
    "    cv2.imshow(\"Image\", image)\n",
    "    if cv2.waitKey(1) == ord('q'):\n",
    "        break\n",
    "cap.release()\n",
    "cv2.destroyAllWindows()   "
   ]
  },
  {
   "cell_type": "code",
   "execution_count": null,
   "id": "f2daa934",
   "metadata": {},
   "outputs": [],
   "source": []
  }
 ],
 "metadata": {
  "kernelspec": {
   "display_name": "Python 3 (ipykernel)",
   "language": "python",
   "name": "python3"
  },
  "language_info": {
   "codemirror_mode": {
    "name": "ipython",
    "version": 3
   },
   "file_extension": ".py",
   "mimetype": "text/x-python",
   "name": "python",
   "nbconvert_exporter": "python",
   "pygments_lexer": "ipython3",
   "version": "3.9.7"
  }
 },
 "nbformat": 4,
 "nbformat_minor": 5
}
